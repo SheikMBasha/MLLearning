{
 "cells": [
  {
   "cell_type": "markdown",
   "metadata": {},
   "source": [
    "# Test Instructions\n",
    "- **There are 24 questions labeled from A to Z**\n",
    "- **Each answer should be stored in a variable ranging from A-Z**\n",
    "- **If some question demands reporting multiple answers/dataframes then lookout for specific instructions in that question**"
   ]
  },
  {
   "cell_type": "markdown",
   "metadata": {},
   "source": [
    "# Stock Market Indices\n",
    "- DJI - Dow Jones Industrial Index\n",
    "- DAX - German Index\n",
    "- NSE - National Stock Exchange (Nifty)\n",
    "The folder **index** has weekly prices for 2 different indices in csv format. "
   ]
  },
  {
   "cell_type": "markdown",
   "metadata": {},
   "source": [
    "## A) Read the csv file other then NSE into a data-frames\n",
    "Expected Answer - pandas.DataFrame object **A**\n",
    "\n",
    "**Hint - For convenience you may read the data into a variable name (eg. DJI, NSE, etc) but answer to each question should be stored in a seperate variable from A-Z**"
   ]
  },
  {
   "cell_type": "markdown",
   "metadata": {},
   "source": [
    "## B) Convert the timestamp column to appropriate datetime format\n",
    "Expected Answer - pandas.DataFrame object **B**"
   ]
  },
  {
   "cell_type": "markdown",
   "metadata": {},
   "source": [
    "## C) Remove the column \"dividend amount\" from all the dataframes\n",
    "Expected Answer - pandas.DataFrame object **C**"
   ]
  },
  {
   "cell_type": "markdown",
   "metadata": {},
   "source": [
    "## D) Create a backup of the above dataframes (deep copy)\n",
    "Expected Answer - pandas.DataFrame objects **D**\n",
    "Hint - Each answer should be reported in this way"
   ]
  },
  {
   "cell_type": "markdown",
   "metadata": {},
   "source": [
    "## E) Read the file \"to_merge.csv\" as \"anonymous\" DataFrame  and merge with your DataFrames with appropriate key and suffixes\n",
    "Expected Answer - pandas.DataFrame object **E**\n",
    "\n",
    "**Suffixes** is very helpful as it disambiguates your merged dataframe and makes referencing very easy.\n",
    "- **\"_DJI\"** for DJI\n",
    "- **\"_SNP\"** for SNP\n",
    "- **\"_Anonymous\"** for Anonymous\n",
    "\n",
    "Fact - The \"to_merge.csv\" file contains data to an anonymous index"
   ]
  },
  {
   "cell_type": "markdown",
   "metadata": {
    "collapsed": false
   },
   "source": [
    "## F) What is the earliest year in our datasets?\n",
    "Expected Answer - A variable **F** with only one year value indicating minimum of both the dataframes"
   ]
  },
  {
   "cell_type": "markdown",
   "metadata": {},
   "source": [
    "## G) On what date did we witness maximum traded \"volume\" for DJI?\n",
    "Expected Answer - One variable **G**"
   ]
  },
  {
   "cell_type": "markdown",
   "metadata": {},
   "source": [
    "## H) What was the 'volume' on the day when DJI 'close' price was minimum?\n",
    "Expected Answer - A variable **H**"
   ]
  },
  {
   "cell_type": "markdown",
   "metadata": {},
   "source": [
    "## I) Do the columns \"close\" and \"adjusted close\" have same value throughout for DJI?\n",
    "Expected Answer - A single boolean variable **I** (True/False)"
   ]
  },
  {
   "cell_type": "markdown",
   "metadata": {},
   "source": [
    "## J) Append a column \"percentage_change\" that reports change in price compared to previous days price.\n",
    "Expected Answer - pandas.DataFrames **J** with \"percentage_change\" column appended\n",
    "\n",
    "Hint - No need to write complex formulas. There is a pandas function that does it. "
   ]
  },
  {
   "cell_type": "markdown",
   "metadata": {},
   "source": [
    "## K) Extract year and month value from timestamp and append that as two columns \"year\" and \"month\" \n",
    "Expected Answer - pandas.DataFrames **K** with \"year\" and \"\"\"month column appended"
   ]
  },
  {
   "cell_type": "markdown",
   "metadata": {},
   "source": [
    "## L) Aggregate the data at \"year\" level and report the traded \"volume\" for each year\n",
    "Expected Answer - pandas.DataFrame **L** with only 2 columns (Year and Volume) where volume is the sum of volumes in that year.\n",
    "\n",
    "Hint1 - Group and then Aggregate\n",
    "\n",
    "Hint2 - You may want to use **as_index=False** as parameter"
   ]
  },
  {
   "cell_type": "markdown",
   "metadata": {},
   "source": [
    "## M) Which year observed maximum volume?\n",
    "Expected Answer - A variable **M** reporting the year in which maximum volume was observed\n",
    "\n",
    "Hint - Use previous DataFrame"
   ]
  },
  {
   "cell_type": "markdown",
   "metadata": {},
   "source": [
    "## N) Sort the DataFrame in ascending order of timestamp. \n",
    "Expected Answer - pandas.DataFrame **N** sorted such that oldest date (2000-01-14) is on top and newest date is at bottom (2017-12-27)\n",
    "\n",
    "Hint - Pandas has inbuilt function"
   ]
  },
  {
   "cell_type": "markdown",
   "metadata": {},
   "source": [
    "## O) Aggregate the data at [\"year\",\"month\"] level and report the \"open\" and \"close\" price\n",
    "Expected Answer - pandas.DataFrame **O** with 4 columns (Year, Month, Open, Close)\n",
    "\n",
    "**Note**\n",
    "    - Opening price should be the opening price on the first trading day of that month.\n",
    "    - Closing price should be the closing price on the last trading day of that month.\n",
    "\n",
    "Hint1 - Group and then Aggregate\n",
    "\n",
    "Hint2 - While grouping use **as_index=False** as parameter\n",
    "\n",
    "Hint3 - Aggregating functions various parameters such as mean, sum, size, count, std, var, sem, describe, first, last, nth, min, max.\n",
    "\n",
    "Hint4 - To apply different aggregate functions to different columns pass a dictionary to agg function ({\"open\":'first',\"close\":'last'})"
   ]
  },
  {
   "cell_type": "markdown",
   "metadata": {},
   "source": [
    "## P) Using the previous DataFrame append a column \"monthly_change\" i.e. the percentage change between Open and Close price of a given month.\n",
    "Expected Answer - a pandas.DataFrame **P** with 5 columns (year, month, open, close, percentage_change)\n",
    "\n",
    "Hint - (Open - Close) / Close\n",
    "\n",
    "Note - No need to multiply it with 100"
   ]
  },
  {
   "cell_type": "markdown",
   "metadata": {},
   "source": [
    "## Q) Using the previous DataFrame return the row where \"monthly_change\" is maximum\n",
    "Expected Answer - pandas.DataFrame **Q** with 1 row where monthly_change in maximum\n",
    "\n",
    "Note - Maximum change can be negative also."
   ]
  },
  {
   "cell_type": "markdown",
   "metadata": {},
   "source": [
    "## R) Which index is more volatile? (Base Index or Anonymous Index)\n",
    "Expected Answer - Three string variables\n",
    "\n",
    "**R_Volatile** (\"DJI\" vs \"Anonymous\")\n",
    "\n",
    "**R_Metric** (write the metric used)\n",
    "\n",
    "**R_Attribute** (write the variable on which you implemented the metric)\n",
    "\n",
    "Note - You can manually type and generate answers for this question.\n",
    "\n",
    "Hint - You may need to compute some metric for the Anonymous index"
   ]
  },
  {
   "cell_type": "markdown",
   "metadata": {},
   "source": [
    "## S) Append a new column \"movement\" that bins the \"percentage_change\" column into 3 bins \n",
    "- **negative** if change < -0.015 \n",
    "- **neutral** if -0.015 < change < 0.015\n",
    "- **positive** if change > 0.015\n",
    "\n",
    "Expected Answer - pandas.DataFrame S with new columns appended\n",
    "\n",
    "Note - Usually we delete the continuous variable after binning but for the sake of scope of this test we are retaining the original continuous variable \"percentage_change\""
   ]
  },
  {
   "cell_type": "markdown",
   "metadata": {},
   "source": [
    "## T) Append a new column \"trade_frequency\" that bins the \"volume\" column into 3 equal frequecy bins\n",
    "Volume indicates the no of shares traded. So binning them helps us categorize traders behaviour/aggression\n",
    "- \"low\" \n",
    "- \"medium\"\n",
    "- \"high\"\n",
    "\n",
    "Expected Answer - pandas.DataFrame **T** with new columns appended\n",
    "Note - Each factor should have equal occurences"
   ]
  },
  {
   "cell_type": "markdown",
   "metadata": {},
   "source": [
    "## U) Plot boxplot for \"percentage_change\"\n",
    "Hint - You may need to get rid of NaN values"
   ]
  },
  {
   "cell_type": "markdown",
   "metadata": {},
   "source": [
    "## V) Cap the \"percentage_change\" between -0.10 and 0.10\n",
    "Expected Answer - pandas.DataFrame **V** where range of \"percentage_change\" is between (-0.10,0.10)\n",
    "\n",
    "Fact - Sometimes outliers may have unwanted high impact on your model. Hence its  better to cap them. T&C Apply"
   ]
  },
  {
   "cell_type": "markdown",
   "metadata": {},
   "source": [
    "## W) Plot the volume of DJI\n",
    "\n",
    "Hint = TS plot\n",
    "\n",
    "Note = It is fine if you cannot print the exact date on x axis. But make sure that the date increases along the positive direction of x axis."
   ]
  },
  {
   "cell_type": "markdown",
   "metadata": {
    "collapsed": false
   },
   "source": [
    "## X) Plot the closing price of DJI\n",
    "\n",
    "Hint = TS plot\n",
    "\n",
    "Note = It is fine if you cannot print the exact date on x axis. But make sure that the date increases along the positive direction of x axis."
   ]
  },
  {
   "cell_type": "markdown",
   "metadata": {
    "collapsed": true
   },
   "source": [
    "## Y) Standardize [open,high,low,close,adjusted_close,volume,percentage_change] with the method of your choice\n",
    "Expected Answer - pandas.DataFrame **Y** with standardized data"
   ]
  },
  {
   "cell_type": "markdown",
   "metadata": {},
   "source": [
    "## Z) Bonus question - Give your feedback (1 Mark Guaranteed)\n",
    "- Did you find the test useful?\n",
    "- What did you like about the test?\n",
    "- What can be improved?"
   ]
  }
 ],
 "metadata": {
  "kernelspec": {
   "display_name": "Python 3",
   "language": "python",
   "name": "python3"
  },
  "language_info": {
   "codemirror_mode": {
    "name": "ipython",
    "version": 3
   },
   "file_extension": ".py",
   "mimetype": "text/x-python",
   "name": "python",
   "nbconvert_exporter": "python",
   "pygments_lexer": "ipython3",
   "version": "3.6.0"
  }
 },
 "nbformat": 4,
 "nbformat_minor": 2
}
