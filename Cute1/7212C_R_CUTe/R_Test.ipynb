{
 "cells": [
  {
   "cell_type": "markdown",
   "metadata": {},
   "source": [
    "# Test Instructions\n",
    "- **There are 19 questions labeled from A to Z**\n",
    "- **Each answer should be stored in a variable ranging from A-Z**\n",
    "- **If some question demands reporting multiple answers/DataFrame then lookout for specific instructions in that question**"
   ]
  },
  {
   "cell_type": "markdown",
   "metadata": {},
   "source": [
    "# Stock Market Indices\n",
    "- DJI - Dow Jones Industrial Index\n",
    "The folder has weekly prices for Dow Jones Industrial Index in csv format. "
   ]
  },
  {
   "cell_type": "markdown",
   "metadata": {},
   "source": [
    "## A) Read the csv file weekly_adjusted_DJI into a data-frames\n",
    "Expected Answer - DataFrame object **A**\n",
    "\n",
    "**Hint - For convenience you may read the data into a variable name (eg. DJI) but answer to each question should be stored in a seperate variable from A-Z**"
   ]
  },
  {
   "cell_type": "markdown",
   "metadata": {},
   "source": [
    "## B) Convert the timestamp column to appropriate datetime format\n",
    "Expected Answer - DataFrame object **B**"
   ]
  },
  {
   "cell_type": "markdown",
   "metadata": {},
   "source": [
    "## C) Remove the column \"dividend amount\" from the dataframe\n",
    "Expected Answer - DataFrame object **C**"
   ]
  },
  {
   "cell_type": "markdown",
   "metadata": {},
   "source": [
    "## E) Read the file \"to_merge.csv\" as \"anonymous\" DataFrame  and merge with DJI with appropriate key and suffixes\n",
    "Expected Answer - DataFrame object **E**\n",
    "\n",
    "**Suffixes** is very helpful as it disambiguates your merged dataframe and makes referencing very easy.\n",
    "- **\"_DJI\"** for DJI\n",
    "- **\"_Anonymous\"** for Anonymous\n",
    "\n",
    "Fact - The \"to_merge.csv\" file contains data to an anonymous index"
   ]
  },
  {
   "cell_type": "markdown",
   "metadata": {},
   "source": [
    "## F) What is the earliest year in our datasets?\n",
    "Expected Answer - A variable **F** with only one year value indicating minimum of both the DataFrame"
   ]
  },
  {
   "cell_type": "markdown",
   "metadata": {},
   "source": [
    "## G) On what date did we witness maximum traded \"volume\" for DJI?\n",
    "Expected Answer - One variable **G**"
   ]
  },
  {
   "cell_type": "markdown",
   "metadata": {},
   "source": [
    "## H) What was the 'volume' on the day when DJI 'close' price was minimum?\n",
    "Expected Answer - A variable **H**"
   ]
  },
  {
   "cell_type": "markdown",
   "metadata": {},
   "source": [
    "## I) Do the columns \"close\" and \"adjusted close\" have same value throughout for DJI?\n",
    "Expected Answer - A single boolean variable **I** (True/False)"
   ]
  },
  {
   "cell_type": "markdown",
   "metadata": {},
   "source": [
    "## J) Append a column \"percentage_change\" that reports change in price compared to previous days price.\n",
    "Expected Answer - DataFrame **J** with \"percentage_change\" column appended"
   ]
  },
  {
   "cell_type": "markdown",
   "metadata": {},
   "source": [
    "## K) Extract year and month value from timestamp and append that as two columns \"year\" and \"month\" \n",
    "Expected Answer - DataFrame **K** with \"year\" and \"month\" column appended"
   ]
  },
  {
   "cell_type": "markdown",
   "metadata": {},
   "source": [
    "## L) Aggregate the data at \"year\" level and report the traded \"volume\" for each year\n",
    "Expected Answer - DataFrame **L** with only 2 columns (Year and Volume) where volume is the sum of volumes in that year."
   ]
  },
  {
   "cell_type": "markdown",
   "metadata": {},
   "source": [
    "## M) Using previous dataframe \"L\" state which year observed maximum volume?\n",
    "Expected Answer - A variable **M** reporting the year in which maximum volume was observed\n",
    "\n",
    "Hint - Use previous DataFrame"
   ]
  },
  {
   "cell_type": "markdown",
   "metadata": {},
   "source": [
    "## N) Sort the Primary DataFrame in ascending order of timestamp. \n",
    "Expected Answer - DataFrame **N** sorted such that oldest date (2000-01-14) is on top and newest date is at bottom (2017-12-27)"
   ]
  },
  {
   "cell_type": "markdown",
   "metadata": {},
   "source": [
    "## O) Aggregate the data at [\"year\",\"month\"] level and report the \"open\" and \"close\" price\n",
    "Expected Answer - DataFrame **O** with 4 columns (Year, Month, Open, Close)\n",
    "\n",
    "**Note**\n",
    "    - Opening price should be the opening price on the first trading day of that month.\n",
    "    - Closing price should be the closing price on the last trading day of that month.\n"
   ]
  },
  {
   "cell_type": "markdown",
   "metadata": {},
   "source": [
    "## P) Using the previous DataFrame \"O\" append a column \"monthly_change\" i.e. the percentage change between Open and Close price of a given month.\n",
    "Expected Answer - a DataFrame **P** with 5 columns (year, month, open, close, percentage_change)\n",
    "\n",
    "Hint - (Close - Open) / Close\n",
    "\n",
    "Note - No need to multiply it with 100"
   ]
  },
  {
   "cell_type": "markdown",
   "metadata": {},
   "source": [
    "## Q) Using the previous DataFrame \"P\" return the row where \"monthly_change\" is maximum\n",
    "Expected Answer - DataFrame **Q** with 1 row where monthly_change in maximum\n",
    "\n",
    "Note - Maximum change can be negative also."
   ]
  },
  {
   "cell_type": "markdown",
   "metadata": {},
   "source": [
    "## S) In your Primary DataFrame append a new column \"movement\" that bins the \"percentage_change\" column into 3 bins \n",
    "- **negative** if change < -0.015 \n",
    "- **neutral** if -0.015 < change < 0.015\n",
    "- **positive** if change > 0.015\n",
    "\n",
    "Expected Answer - DataFrame S with new columns appended\n",
    "\n",
    "Note - Usually we delete the continuous variable after binning but for the sake of scope of this test we are retaining the original continuous variable \"percentage_change\""
   ]
  },
  {
   "cell_type": "markdown",
   "metadata": {
    "collapsed": true
   },
   "source": [
    "## Y) Standardize [open,high,low,close,adjusted_close,volume,percentage_change] with the method of your choice\n",
    "Expected Answer - DataFrame **Y** with standardized data"
   ]
  },
  {
   "cell_type": "markdown",
   "metadata": {},
   "source": [
    "## Z) Bonus question - Give your feedback (1 Mark Guaranteed)\n",
    "- Did you find the test useful?\n",
    "- What did you like about the test?\n",
    "- What can be improved?"
   ]
  }
 ],
 "metadata": {
  "kernelspec": {
   "display_name": "Python 3",
   "language": "python",
   "name": "python3"
  },
  "language_info": {
   "codemirror_mode": {
    "name": "ipython",
    "version": 3
   },
   "file_extension": ".py",
   "mimetype": "text/x-python",
   "name": "python",
   "nbconvert_exporter": "python",
   "pygments_lexer": "ipython3",
   "version": "3.6.3"
  }
 },
 "nbformat": 4,
 "nbformat_minor": 2
}
